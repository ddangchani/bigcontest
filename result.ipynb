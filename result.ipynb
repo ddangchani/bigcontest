{
 "cells": [
  {
   "cell_type": "code",
   "execution_count": 1,
   "metadata": {},
   "outputs": [],
   "source": [
    "# package load\n",
    "import pandas as pd\n",
    "import numpy as np\n",
    "from tqdm import tqdm\n",
    "import geopandas as gpd\n",
    "import matplotlib.pyplot as plt\n",
    "from tqdm import tqdm\n",
    "import os\n",
    "import statsmodels.api as sm \n",
    "\n",
    "\n",
    "# for korean plotting\n",
    "plt.rcParams['font.family'] = 'AppleGothic'\n",
    "plt.rcParams['axes.unicode_minus'] = False\n",
    "\n",
    "# Pandas option\n",
    "pd.set_option('display.max_columns', None)"
   ]
  },
  {
   "cell_type": "markdown",
   "metadata": {},
   "source": [
    "# Result"
   ]
  },
  {
   "cell_type": "markdown",
   "metadata": {},
   "source": [
    "### Analysis Result\n",
    "- Plus Coef(+) : 전용면적, 긴급신고비율,1층, 여성생활인구비율, 요식업비율, 비요식업 폐업율, 지하철역, 살인범죄위험, 강간범죄위험\n",
    "- Minus Coef(-) : 연식, 버스정류장수, 유흥업소수, 비요식업 개업율, 심야생활인구비율, 112신고건수, 강도범죄위험, 제2종근생시설, 약취범죄위험, 마약범죄위험, 폭력범죄위험, 판매용건물"
   ]
  },
  {
   "cell_type": "markdown",
   "metadata": {},
   "source": [
    "### 분석결과 바탕으로 각 행정동별 (부동산외적)가격요인분포 탐색\n",
    "> 행정동별 데이터셋 구축 및 회귀식값 도출"
   ]
  },
  {
   "cell_type": "code",
   "execution_count": 2,
   "metadata": {},
   "outputs": [],
   "source": [
    "# 서울시 행정동\n",
    "area_adm = gpd.GeoDataFrame.from_file('data/서울시위치정보/Z_SOP_BND_ADM_DONG_PG.shp', encoding='cp949')\n",
    "area_adm = area_adm.iloc[:425,:] # 서울 행정동 435개\n",
    "area_adm = area_adm[['ADM_DR_NM','geometry']]"
   ]
  },
  {
   "cell_type": "markdown",
   "metadata": {},
   "source": [
    "## Dataset"
   ]
  },
  {
   "cell_type": "markdown",
   "metadata": {},
   "source": [
    "### 전국 112신고접수 데이터\n",
    "- 스마트치안빅데이터플랫폼 데이터셋"
   ]
  },
  {
   "cell_type": "code",
   "execution_count": 12,
   "metadata": {},
   "outputs": [],
   "source": [
    "datals = os.listdir('data/전국112신고접수')\n",
    "datals.sort()\n",
    "datals = datals[-13:-1] # 2021년도 데이터"
   ]
  },
  {
   "cell_type": "code",
   "execution_count": 13,
   "metadata": {},
   "outputs": [],
   "source": [
    "# columns\n",
    "colnames = pd.read_csv('data/전국112신고접수/columns.csv', encoding='cp949')\n",
    "colnames = colnames[' 컬럼영문명']\n",
    "colnames.name = None"
   ]
  },
  {
   "cell_type": "code",
   "execution_count": 14,
   "metadata": {},
   "outputs": [],
   "source": [
    "# data merge\n",
    "df_112 = pd.DataFrame(columns=colnames)\n",
    "\n",
    "for name in datals:\n",
    "    df_i = pd.read_csv('data/전국112신고접수/'+ name, encoding='utf-8', header=None)\n",
    "    df_i.columns = colnames\n",
    "    df_112 = pd.concat([df_112, df_i], axis=0)\n",
    "\n",
    "df_112 = df_112[df_112.columns.drop(['ACPT_YM'])]"
   ]
  },
  {
   "cell_type": "code",
   "execution_count": 15,
   "metadata": {},
   "outputs": [],
   "source": [
    "# aggregate\n",
    "df_112 = df_112.groupby('PLCST_NM', as_index=False).agg('sum')"
   ]
  },
  {
   "cell_type": "code",
   "execution_count": 16,
   "metadata": {},
   "outputs": [],
   "source": [
    "# 서울 경찰서만 추리기\n",
    "df_112 = df_112[df_112['PLCST_NM'].str.contains('서울')].reset_index(drop=True)\n",
    "df_112 = df_112.set_index('PLCST_NM')\n",
    "# df_112.head(3)"
   ]
  },
  {
   "cell_type": "code",
   "execution_count": 17,
   "metadata": {},
   "outputs": [],
   "source": [
    "# 변수생성\n",
    "df_112['총신고건수'] = df_112['RPRT_CASCNT_WHOL']\n",
    "df_112['긴급신고비율'] = df_112['ACPT_EMERG_TYPE_EMERG'] / df_112['RPRT_CASCNT_WHOL']\n",
    "df_112['야간신고비율'] = (df_112['OCRN_TIZN_22']+df_112['OCRN_TIZN_23']+df_112['OCRN_TIZN_00']+df_112['OCRN_TIZN_01']+df_112['OCRN_TIZN_02']) / df_112['RPRT_CASCNT_WHOL']\n",
    "\n",
    "df_112 = df_112[['총신고건수','긴급신고비율','야간신고비율']]"
   ]
  },
  {
   "cell_type": "markdown",
   "metadata": {},
   "source": [
    "### 생활안전지도 데이터\n",
    "생활안전지도 api에서 추출한(`safemap.ipynb`) 데이터 불러오기\n",
    "> 범죄 종류 : 살인,강도,강간,절도,폭력,방화,마약,약취유인,도박,전체"
   ]
  },
  {
   "cell_type": "code",
   "execution_count": 18,
   "metadata": {},
   "outputs": [
    {
     "data": {
      "text/plain": [
       "(243, 15)"
      ]
     },
     "execution_count": 18,
     "metadata": {},
     "output_type": "execute_result"
    }
   ],
   "source": [
    "df_safety = gpd.GeoDataFrame.from_file('safemap.gpkg')\n",
    "df_safety = df_safety[df_safety['polc_se'].isin(['03_파출소', '02_지구대'])]\n",
    "df_safety.columns = ['polc_nm', 'plcstn_nm', 'polc_se', '살인', '강도', '강간', '절도',\n",
    "       '폭력', '방화', '마약', '약취', '도박', '전체범죄', '시군구',\n",
    "       'geometry']\n",
    "df_safety.shape"
   ]
  },
  {
   "cell_type": "code",
   "execution_count": 19,
   "metadata": {},
   "outputs": [],
   "source": [
    "df_safety = df_safety.to_crs(epsg=5181) # epsg:5181"
   ]
  },
  {
   "cell_type": "code",
   "execution_count": 20,
   "metadata": {},
   "outputs": [],
   "source": [
    "df_safety = df_safety.join(df_112, on='polc_nm') # 112 신고데이터 결합"
   ]
  },
  {
   "cell_type": "markdown",
   "metadata": {},
   "source": [
    "### 각 행정동별 데이터셋 구축"
   ]
  },
  {
   "cell_type": "code",
   "execution_count": 34,
   "metadata": {},
   "outputs": [],
   "source": [
    "df_safety['행정동'] = 0\n",
    "\n",
    "for i in range(len(df_safety)):\n",
    "    df_safety.at[i,'행정동'] = np.where(area_adm.geometry.contains(df_safety.geometry[i]))[0][0]"
   ]
  },
  {
   "cell_type": "code",
   "execution_count": 39,
   "metadata": {},
   "outputs": [],
   "source": [
    "cols_crime = ['살인','강도','강간','절도','폭력','방화','마약','약취','도박']"
   ]
  },
  {
   "cell_type": "code",
   "execution_count": 40,
   "metadata": {},
   "outputs": [],
   "source": [
    "df_safety = df_safety[['살인','강도','강간','절도','폭력','방화','마약','약취','도박','총신고건수','긴급신고비율','야간신고비율','행정동']].astype('float').groupby('행정동',as_index=True).agg('mean')\n",
    "df_safety[cols_crime] = df_safety[cols_crime].astype('int')"
   ]
  },
  {
   "cell_type": "code",
   "execution_count": 44,
   "metadata": {},
   "outputs": [
    {
     "data": {
      "text/html": [
       "<div>\n",
       "<style scoped>\n",
       "    .dataframe tbody tr th:only-of-type {\n",
       "        vertical-align: middle;\n",
       "    }\n",
       "\n",
       "    .dataframe tbody tr th {\n",
       "        vertical-align: top;\n",
       "    }\n",
       "\n",
       "    .dataframe thead th {\n",
       "        text-align: right;\n",
       "    }\n",
       "</style>\n",
       "<table border=\"1\" class=\"dataframe\">\n",
       "  <thead>\n",
       "    <tr style=\"text-align: right;\">\n",
       "      <th></th>\n",
       "      <th>살인</th>\n",
       "      <th>강도</th>\n",
       "      <th>강간</th>\n",
       "      <th>절도</th>\n",
       "      <th>폭력</th>\n",
       "      <th>방화</th>\n",
       "      <th>마약</th>\n",
       "      <th>약취</th>\n",
       "      <th>도박</th>\n",
       "      <th>총신고건수</th>\n",
       "      <th>긴급신고비율</th>\n",
       "      <th>야간신고비율</th>\n",
       "    </tr>\n",
       "    <tr>\n",
       "      <th>행정동</th>\n",
       "      <th></th>\n",
       "      <th></th>\n",
       "      <th></th>\n",
       "      <th></th>\n",
       "      <th></th>\n",
       "      <th></th>\n",
       "      <th></th>\n",
       "      <th></th>\n",
       "      <th></th>\n",
       "      <th></th>\n",
       "      <th></th>\n",
       "      <th></th>\n",
       "    </tr>\n",
       "  </thead>\n",
       "  <tbody>\n",
       "    <tr>\n",
       "      <th>0</th>\n",
       "      <td>2</td>\n",
       "      <td>1</td>\n",
       "      <td>1</td>\n",
       "      <td>1</td>\n",
       "      <td>1</td>\n",
       "      <td>1</td>\n",
       "      <td>1</td>\n",
       "      <td>2</td>\n",
       "      <td>1</td>\n",
       "      <td>45240.0</td>\n",
       "      <td>0.005769</td>\n",
       "      <td>0.239655</td>\n",
       "    </tr>\n",
       "    <tr>\n",
       "      <th>1</th>\n",
       "      <td>1</td>\n",
       "      <td>1</td>\n",
       "      <td>1</td>\n",
       "      <td>1</td>\n",
       "      <td>1</td>\n",
       "      <td>1</td>\n",
       "      <td>1</td>\n",
       "      <td>5</td>\n",
       "      <td>1</td>\n",
       "      <td>45240.0</td>\n",
       "      <td>0.005769</td>\n",
       "      <td>0.239655</td>\n",
       "    </tr>\n",
       "    <tr>\n",
       "      <th>2</th>\n",
       "      <td>1</td>\n",
       "      <td>2</td>\n",
       "      <td>1</td>\n",
       "      <td>1</td>\n",
       "      <td>1</td>\n",
       "      <td>2</td>\n",
       "      <td>1</td>\n",
       "      <td>1</td>\n",
       "      <td>1</td>\n",
       "      <td>45240.0</td>\n",
       "      <td>0.005769</td>\n",
       "      <td>0.239655</td>\n",
       "    </tr>\n",
       "    <tr>\n",
       "      <th>3</th>\n",
       "      <td>1</td>\n",
       "      <td>1</td>\n",
       "      <td>1</td>\n",
       "      <td>1</td>\n",
       "      <td>1</td>\n",
       "      <td>1</td>\n",
       "      <td>1</td>\n",
       "      <td>5</td>\n",
       "      <td>1</td>\n",
       "      <td>45240.0</td>\n",
       "      <td>0.005769</td>\n",
       "      <td>0.239655</td>\n",
       "    </tr>\n",
       "    <tr>\n",
       "      <th>5</th>\n",
       "      <td>3</td>\n",
       "      <td>1</td>\n",
       "      <td>1</td>\n",
       "      <td>1</td>\n",
       "      <td>1</td>\n",
       "      <td>1</td>\n",
       "      <td>1</td>\n",
       "      <td>1</td>\n",
       "      <td>1</td>\n",
       "      <td>45240.0</td>\n",
       "      <td>0.005769</td>\n",
       "      <td>0.239655</td>\n",
       "    </tr>\n",
       "    <tr>\n",
       "      <th>...</th>\n",
       "      <td>...</td>\n",
       "      <td>...</td>\n",
       "      <td>...</td>\n",
       "      <td>...</td>\n",
       "      <td>...</td>\n",
       "      <td>...</td>\n",
       "      <td>...</td>\n",
       "      <td>...</td>\n",
       "      <td>...</td>\n",
       "      <td>...</td>\n",
       "      <td>...</td>\n",
       "      <td>...</td>\n",
       "    </tr>\n",
       "    <tr>\n",
       "      <th>411</th>\n",
       "      <td>4</td>\n",
       "      <td>1</td>\n",
       "      <td>1</td>\n",
       "      <td>1</td>\n",
       "      <td>1</td>\n",
       "      <td>2</td>\n",
       "      <td>1</td>\n",
       "      <td>1</td>\n",
       "      <td>1</td>\n",
       "      <td>96374.0</td>\n",
       "      <td>0.009349</td>\n",
       "      <td>0.294851</td>\n",
       "    </tr>\n",
       "    <tr>\n",
       "      <th>414</th>\n",
       "      <td>4</td>\n",
       "      <td>2</td>\n",
       "      <td>2</td>\n",
       "      <td>3</td>\n",
       "      <td>3</td>\n",
       "      <td>2</td>\n",
       "      <td>3</td>\n",
       "      <td>1</td>\n",
       "      <td>5</td>\n",
       "      <td>96374.0</td>\n",
       "      <td>0.009349</td>\n",
       "      <td>0.294851</td>\n",
       "    </tr>\n",
       "    <tr>\n",
       "      <th>417</th>\n",
       "      <td>4</td>\n",
       "      <td>1</td>\n",
       "      <td>3</td>\n",
       "      <td>3</td>\n",
       "      <td>3</td>\n",
       "      <td>4</td>\n",
       "      <td>2</td>\n",
       "      <td>1</td>\n",
       "      <td>4</td>\n",
       "      <td>96374.0</td>\n",
       "      <td>0.009349</td>\n",
       "      <td>0.294851</td>\n",
       "    </tr>\n",
       "    <tr>\n",
       "      <th>421</th>\n",
       "      <td>1</td>\n",
       "      <td>2</td>\n",
       "      <td>1</td>\n",
       "      <td>1</td>\n",
       "      <td>1</td>\n",
       "      <td>1</td>\n",
       "      <td>3</td>\n",
       "      <td>3</td>\n",
       "      <td>1</td>\n",
       "      <td>96374.0</td>\n",
       "      <td>0.009349</td>\n",
       "      <td>0.294851</td>\n",
       "    </tr>\n",
       "    <tr>\n",
       "      <th>423</th>\n",
       "      <td>5</td>\n",
       "      <td>5</td>\n",
       "      <td>5</td>\n",
       "      <td>5</td>\n",
       "      <td>5</td>\n",
       "      <td>5</td>\n",
       "      <td>5</td>\n",
       "      <td>1</td>\n",
       "      <td>5</td>\n",
       "      <td>96374.0</td>\n",
       "      <td>0.009349</td>\n",
       "      <td>0.294851</td>\n",
       "    </tr>\n",
       "  </tbody>\n",
       "</table>\n",
       "<p>223 rows × 12 columns</p>\n",
       "</div>"
      ],
      "text/plain": [
       "     살인  강도  강간  절도  폭력  방화  마약  약취  도박    총신고건수    긴급신고비율    야간신고비율\n",
       "행정동                                                                 \n",
       "0     2   1   1   1   1   1   1   2   1  45240.0  0.005769  0.239655\n",
       "1     1   1   1   1   1   1   1   5   1  45240.0  0.005769  0.239655\n",
       "2     1   2   1   1   1   2   1   1   1  45240.0  0.005769  0.239655\n",
       "3     1   1   1   1   1   1   1   5   1  45240.0  0.005769  0.239655\n",
       "5     3   1   1   1   1   1   1   1   1  45240.0  0.005769  0.239655\n",
       "..   ..  ..  ..  ..  ..  ..  ..  ..  ..      ...       ...       ...\n",
       "411   4   1   1   1   1   2   1   1   1  96374.0  0.009349  0.294851\n",
       "414   4   2   2   3   3   2   3   1   5  96374.0  0.009349  0.294851\n",
       "417   4   1   3   3   3   4   2   1   4  96374.0  0.009349  0.294851\n",
       "421   1   2   1   1   1   1   3   3   1  96374.0  0.009349  0.294851\n",
       "423   5   5   5   5   5   5   5   1   5  96374.0  0.009349  0.294851\n",
       "\n",
       "[223 rows x 12 columns]"
      ]
     },
     "execution_count": 44,
     "metadata": {},
     "output_type": "execute_result"
    }
   ],
   "source": [
    "df_safety.index = df_safety.index.astype('int')\n",
    "df_safety # 223 rows"
   ]
  },
  {
   "cell_type": "code",
   "execution_count": 49,
   "metadata": {},
   "outputs": [],
   "source": [
    "# Join\n",
    "area_adm = area_adm.join(df_safety)"
   ]
  },
  {
   "cell_type": "markdown",
   "metadata": {},
   "source": [
    "### 대중교통 데이터\n",
    ": 행정동 내 속한 정류장 및 지하철역 수"
   ]
  },
  {
   "cell_type": "code",
   "execution_count": 52,
   "metadata": {},
   "outputs": [],
   "source": [
    "# 버스정류장\n",
    "df_bus = pd.read_csv('data/busstops.csv', encoding='cp949')\n",
    "gdf_bus = gpd.GeoDataFrame(df_bus, geometry=gpd.points_from_xy(x=df_bus['X좌표'], y=df_bus['Y좌표'], crs='WGS84'))\n",
    "gdf_bus = gdf_bus.to_crs(epsg=5181)"
   ]
  },
  {
   "cell_type": "code",
   "execution_count": 53,
   "metadata": {},
   "outputs": [],
   "source": [
    "# 지하철역\n",
    "df_sub = pd.read_csv('data/station_coordinate.csv', encoding='utf-8')\n",
    "gdf_sub = gpd.GeoDataFrame(df_sub, geometry=gpd.points_from_xy(x=df_sub.lng, y=df_sub.lat, crs='WGS84'))\n",
    "gdf_sub = gdf_sub.to_crs(epsg=5181)"
   ]
  },
  {
   "cell_type": "code",
   "execution_count": 54,
   "metadata": {},
   "outputs": [
    {
     "name": "stderr",
     "output_type": "stream",
     "text": [
      "100%|██████████| 425/425 [00:07<00:00, 60.18it/s]\n"
     ]
    },
    {
     "data": {
      "text/html": [
       "<div>\n",
       "<style scoped>\n",
       "    .dataframe tbody tr th:only-of-type {\n",
       "        vertical-align: middle;\n",
       "    }\n",
       "\n",
       "    .dataframe tbody tr th {\n",
       "        vertical-align: top;\n",
       "    }\n",
       "\n",
       "    .dataframe thead th {\n",
       "        text-align: right;\n",
       "    }\n",
       "</style>\n",
       "<table border=\"1\" class=\"dataframe\">\n",
       "  <thead>\n",
       "    <tr style=\"text-align: right;\">\n",
       "      <th></th>\n",
       "      <th>ADM_DR_NM</th>\n",
       "      <th>geometry</th>\n",
       "      <th>살인</th>\n",
       "      <th>강도</th>\n",
       "      <th>강간</th>\n",
       "      <th>절도</th>\n",
       "      <th>폭력</th>\n",
       "      <th>방화</th>\n",
       "      <th>마약</th>\n",
       "      <th>약취</th>\n",
       "      <th>도박</th>\n",
       "      <th>총신고건수</th>\n",
       "      <th>긴급신고비율</th>\n",
       "      <th>야간신고비율</th>\n",
       "      <th>Bus</th>\n",
       "      <th>Subway</th>\n",
       "    </tr>\n",
       "  </thead>\n",
       "  <tbody>\n",
       "    <tr>\n",
       "      <th>0</th>\n",
       "      <td>사직동</td>\n",
       "      <td>POLYGON ((197702.069 453187.311, 197703.481 45...</td>\n",
       "      <td>2.0</td>\n",
       "      <td>1.0</td>\n",
       "      <td>1.0</td>\n",
       "      <td>1.0</td>\n",
       "      <td>1.0</td>\n",
       "      <td>1.0</td>\n",
       "      <td>1.0</td>\n",
       "      <td>2.0</td>\n",
       "      <td>1.0</td>\n",
       "      <td>45240.0</td>\n",
       "      <td>0.005769</td>\n",
       "      <td>0.239655</td>\n",
       "      <td>28</td>\n",
       "      <td>2</td>\n",
       "    </tr>\n",
       "    <tr>\n",
       "      <th>1</th>\n",
       "      <td>삼청동</td>\n",
       "      <td>POLYGON ((197980.839 455346.068, 197995.471 45...</td>\n",
       "      <td>1.0</td>\n",
       "      <td>1.0</td>\n",
       "      <td>1.0</td>\n",
       "      <td>1.0</td>\n",
       "      <td>1.0</td>\n",
       "      <td>1.0</td>\n",
       "      <td>1.0</td>\n",
       "      <td>5.0</td>\n",
       "      <td>1.0</td>\n",
       "      <td>45240.0</td>\n",
       "      <td>0.005769</td>\n",
       "      <td>0.239655</td>\n",
       "      <td>15</td>\n",
       "      <td>0</td>\n",
       "    </tr>\n",
       "    <tr>\n",
       "      <th>2</th>\n",
       "      <td>부암동</td>\n",
       "      <td>POLYGON ((196621.073 456395.880, 196628.373 45...</td>\n",
       "      <td>1.0</td>\n",
       "      <td>2.0</td>\n",
       "      <td>1.0</td>\n",
       "      <td>1.0</td>\n",
       "      <td>1.0</td>\n",
       "      <td>2.0</td>\n",
       "      <td>1.0</td>\n",
       "      <td>1.0</td>\n",
       "      <td>1.0</td>\n",
       "      <td>45240.0</td>\n",
       "      <td>0.005769</td>\n",
       "      <td>0.239655</td>\n",
       "      <td>34</td>\n",
       "      <td>0</td>\n",
       "    </tr>\n",
       "  </tbody>\n",
       "</table>\n",
       "</div>"
      ],
      "text/plain": [
       "  ADM_DR_NM                                           geometry   살인   강도   강간  \\\n",
       "0       사직동  POLYGON ((197702.069 453187.311, 197703.481 45...  2.0  1.0  1.0   \n",
       "1       삼청동  POLYGON ((197980.839 455346.068, 197995.471 45...  1.0  1.0  1.0   \n",
       "2       부암동  POLYGON ((196621.073 456395.880, 196628.373 45...  1.0  2.0  1.0   \n",
       "\n",
       "    절도   폭력   방화   마약   약취   도박    총신고건수    긴급신고비율    야간신고비율  Bus  Subway  \n",
       "0  1.0  1.0  1.0  1.0  2.0  1.0  45240.0  0.005769  0.239655   28       2  \n",
       "1  1.0  1.0  1.0  1.0  5.0  1.0  45240.0  0.005769  0.239655   15       0  \n",
       "2  1.0  1.0  2.0  1.0  1.0  1.0  45240.0  0.005769  0.239655   34       0  "
      ]
     },
     "execution_count": 54,
     "metadata": {},
     "output_type": "execute_result"
    }
   ],
   "source": [
    "# Count(3min)\n",
    "area_adm['Bus'] = 0\n",
    "area_adm['Subway'] = 0\n",
    "\n",
    "for i in tqdm(range(len(area_adm))):\n",
    "    # distance function\n",
    "    bus_i = np.where(gdf_bus.geometry.within(area_adm.geometry[i]))[0] # 1D array\n",
    "    sub_i = np.where(gdf_sub.geometry.within(area_adm.geometry[i]))[0] # 1D array\n",
    "    area_adm.at[i,'Bus'] = len(bus_i)\n",
    "    area_adm.at[i,'Subway'] = len(sub_i)\n",
    "\n",
    "area_adm.head(3)"
   ]
  },
  {
   "cell_type": "markdown",
   "metadata": {},
   "source": [
    "### 유흥업소"
   ]
  },
  {
   "cell_type": "code",
   "execution_count": 55,
   "metadata": {},
   "outputs": [],
   "source": [
    "df_bars = gpd.GeoDataFrame.from_file('data/KLH_15_20211115_G_001/KLH_15_20211115_G_001.shp')\n",
    "df_bars = df_bars[df_bars.PS_NM.str.startswith('서울')]\n",
    "df_bars = df_bars[['PS_NM','PSS_NM','geometry']].reset_index(drop=True)\n",
    "df_bars = df_bars.to_crs(epsg=5181)"
   ]
  },
  {
   "cell_type": "code",
   "execution_count": 56,
   "metadata": {},
   "outputs": [
    {
     "name": "stderr",
     "output_type": "stream",
     "text": [
      "100%|██████████| 425/425 [00:01<00:00, 280.70it/s]\n"
     ]
    },
    {
     "data": {
      "text/html": [
       "<div>\n",
       "<style scoped>\n",
       "    .dataframe tbody tr th:only-of-type {\n",
       "        vertical-align: middle;\n",
       "    }\n",
       "\n",
       "    .dataframe tbody tr th {\n",
       "        vertical-align: top;\n",
       "    }\n",
       "\n",
       "    .dataframe thead th {\n",
       "        text-align: right;\n",
       "    }\n",
       "</style>\n",
       "<table border=\"1\" class=\"dataframe\">\n",
       "  <thead>\n",
       "    <tr style=\"text-align: right;\">\n",
       "      <th></th>\n",
       "      <th>ADM_DR_NM</th>\n",
       "      <th>geometry</th>\n",
       "      <th>살인</th>\n",
       "      <th>강도</th>\n",
       "      <th>강간</th>\n",
       "      <th>절도</th>\n",
       "      <th>폭력</th>\n",
       "      <th>방화</th>\n",
       "      <th>마약</th>\n",
       "      <th>약취</th>\n",
       "      <th>도박</th>\n",
       "      <th>총신고건수</th>\n",
       "      <th>긴급신고비율</th>\n",
       "      <th>야간신고비율</th>\n",
       "      <th>Bus</th>\n",
       "      <th>Subway</th>\n",
       "      <th>유흥업소</th>\n",
       "    </tr>\n",
       "  </thead>\n",
       "  <tbody>\n",
       "    <tr>\n",
       "      <th>0</th>\n",
       "      <td>사직동</td>\n",
       "      <td>POLYGON ((197702.069 453187.311, 197703.481 45...</td>\n",
       "      <td>2.0</td>\n",
       "      <td>1.0</td>\n",
       "      <td>1.0</td>\n",
       "      <td>1.0</td>\n",
       "      <td>1.0</td>\n",
       "      <td>1.0</td>\n",
       "      <td>1.0</td>\n",
       "      <td>2.0</td>\n",
       "      <td>1.0</td>\n",
       "      <td>45240.0</td>\n",
       "      <td>0.005769</td>\n",
       "      <td>0.239655</td>\n",
       "      <td>28</td>\n",
       "      <td>2</td>\n",
       "      <td>5</td>\n",
       "    </tr>\n",
       "    <tr>\n",
       "      <th>1</th>\n",
       "      <td>삼청동</td>\n",
       "      <td>POLYGON ((197980.839 455346.068, 197995.471 45...</td>\n",
       "      <td>1.0</td>\n",
       "      <td>1.0</td>\n",
       "      <td>1.0</td>\n",
       "      <td>1.0</td>\n",
       "      <td>1.0</td>\n",
       "      <td>1.0</td>\n",
       "      <td>1.0</td>\n",
       "      <td>5.0</td>\n",
       "      <td>1.0</td>\n",
       "      <td>45240.0</td>\n",
       "      <td>0.005769</td>\n",
       "      <td>0.239655</td>\n",
       "      <td>15</td>\n",
       "      <td>0</td>\n",
       "      <td>0</td>\n",
       "    </tr>\n",
       "    <tr>\n",
       "      <th>2</th>\n",
       "      <td>부암동</td>\n",
       "      <td>POLYGON ((196621.073 456395.880, 196628.373 45...</td>\n",
       "      <td>1.0</td>\n",
       "      <td>2.0</td>\n",
       "      <td>1.0</td>\n",
       "      <td>1.0</td>\n",
       "      <td>1.0</td>\n",
       "      <td>2.0</td>\n",
       "      <td>1.0</td>\n",
       "      <td>1.0</td>\n",
       "      <td>1.0</td>\n",
       "      <td>45240.0</td>\n",
       "      <td>0.005769</td>\n",
       "      <td>0.239655</td>\n",
       "      <td>34</td>\n",
       "      <td>0</td>\n",
       "      <td>2</td>\n",
       "    </tr>\n",
       "  </tbody>\n",
       "</table>\n",
       "</div>"
      ],
      "text/plain": [
       "  ADM_DR_NM                                           geometry   살인   강도   강간  \\\n",
       "0       사직동  POLYGON ((197702.069 453187.311, 197703.481 45...  2.0  1.0  1.0   \n",
       "1       삼청동  POLYGON ((197980.839 455346.068, 197995.471 45...  1.0  1.0  1.0   \n",
       "2       부암동  POLYGON ((196621.073 456395.880, 196628.373 45...  1.0  2.0  1.0   \n",
       "\n",
       "    절도   폭력   방화   마약   약취   도박    총신고건수    긴급신고비율    야간신고비율  Bus  Subway  \\\n",
       "0  1.0  1.0  1.0  1.0  2.0  1.0  45240.0  0.005769  0.239655   28       2   \n",
       "1  1.0  1.0  1.0  1.0  5.0  1.0  45240.0  0.005769  0.239655   15       0   \n",
       "2  1.0  1.0  2.0  1.0  1.0  1.0  45240.0  0.005769  0.239655   34       0   \n",
       "\n",
       "   유흥업소  \n",
       "0     5  \n",
       "1     0  \n",
       "2     2  "
      ]
     },
     "execution_count": 56,
     "metadata": {},
     "output_type": "execute_result"
    }
   ],
   "source": [
    "# 각 도로 인근(반경 100m)에 포함된 유흥업소 개수 count(10s)\n",
    "area_adm['유흥업소'] = 0\n",
    "\n",
    "for i in tqdm(range(len(area_adm))):\n",
    "    # within function\n",
    "    bar_i = np.where(df_bars.geometry.within(area_adm.geometry[i]))[0] # 1D array\n",
    "    area_adm.at[i,'유흥업소'] = len(bar_i)\n",
    "\n",
    "area_adm.head(3)"
   ]
  },
  {
   "cell_type": "markdown",
   "metadata": {},
   "source": [
    "### 상권데이터"
   ]
  },
  {
   "cell_type": "code",
   "execution_count": 57,
   "metadata": {},
   "outputs": [],
   "source": [
    "# 상권데이터 로드\n",
    "commercial_area = gpd.GeoDataFrame.from_file('df_final.gpkg')\n",
    "commercial_area = commercial_area.iloc[:,21:]"
   ]
  },
  {
   "cell_type": "code",
   "execution_count": 59,
   "metadata": {},
   "outputs": [],
   "source": [
    "# 도로데이터에 결합할 상권데이터 변수 생성(float)\n",
    "new_cols = commercial_area.columns[:-1]\n",
    "area_adm[new_cols]=0.0"
   ]
  },
  {
   "cell_type": "code",
   "execution_count": 61,
   "metadata": {},
   "outputs": [
    {
     "name": "stderr",
     "output_type": "stream",
     "text": [
      "100%|██████████| 425/425 [00:00<00:00, 587.74it/s]\n"
     ]
    }
   ],
   "source": [
    "# 각 행정동별 포함하는 상권 리스트 > 평균치 활용\n",
    "# 각 행정동 기준 어떤 상권과 Intersection인지 체크하여 상권데이터의 평균값 사용\n",
    "\n",
    "for i in tqdm(range(len(area_adm))):\n",
    "    area_ls = np.where(area_adm.geometry.intersects(commercial_area.geometry[i]))[0]\n",
    "    if len(area_ls) == 0:\n",
    "        pass\n",
    "    elif len(area_ls) == 1:\n",
    "        data_i = commercial_area.iloc[area_ls[0],:-1]\n",
    "        area_adm.loc[i,new_cols] = data_i\n",
    "    else:\n",
    "        data_i = commercial_area.iloc[area_ls,:-1].mean()\n",
    "        area_adm.loc[i,new_cols] = data_i\n"
   ]
  },
  {
   "cell_type": "code",
   "execution_count": 63,
   "metadata": {},
   "outputs": [],
   "source": [
    "# Dataset complete\n",
    "area_adm.to_csv('for_result.csv', index=False)"
   ]
  },
  {
   "cell_type": "code",
   "execution_count": 77,
   "metadata": {},
   "outputs": [],
   "source": [
    "# Preprocessing\n",
    "df = pd.read_csv('for_result.csv')\n",
    "df['아파트_단지_수'] = df['아파트_단지_수'].fillna(0)\n",
    "\n",
    "df.columns = ['행정동명', 'geometry', '살인', '강도', '강간', '절도', '폭력', '방화', '마약', '약취',\n",
    "       '도박', '총신고건수', '긴급신고비율', '야간신고비율', 'Bus', 'Subway', '유흥업소', '총_생활인구',\n",
    "       '남성_생활인구', '여성_생활인구', '연령대_10_생활인구', '연령대_20_생활인구',\n",
    "       '연령대_30_생활인구', '연령대_40_생활인구', '연령대_50_생활인구', '연령대_60_이상_생활인구',\n",
    "       '시간대_1_생활인구', '시간대_2_생활인구', '시간대_3_생활인구', '시간대_4_생활인구',\n",
    "       '시간대_5_생활인구', '시간대_6_생활인구', '아파트_단지', '아파트_평균_시가', '개업_점포_비요식업',\n",
    "       '개업_점포_요식업', '점포_비요식업', '점포_요식업', '폐업_점포_비요식업', '폐업_점포_요식업',\n",
    "       '프랜차이즈_점포_비요식업', '프랜차이즈_점포_요식업', '매출액', '매출건수']  # type: ignore\n",
    "\n",
    "df = df.drop(['geometry','아파트_평균_시가','매출건수'], axis=1)\n",
    "df = df.dropna(axis=0) # 223\n",
    "\n",
    "# data type\n",
    "crimes = ['살인', '강도', '강간', '절도', '폭력', '방화', '마약', '약취', '도박']\n",
    "for n in crimes:\n",
    "    df[n] = df[n].astype('int')\n",
    "\n",
    "# 심야생활인구비율\n",
    "df['생활인구_야간비율'] = df['시간대_6_생활인구'] / df['총_생활인구'] # 시간대 6(21-24시)\n",
    "df['생활인구_심야비율'] = df['시간대_1_생활인구'] / df['총_생활인구'] # 시간대 1(00-06시)\n",
    "df['생활인구_여성비율'] = df['여성_생활인구'] / (df['총_생활인구'])\n",
    "\n",
    "# Drop nonusing population features\n",
    "df = df.drop(['남성_생활인구', '여성_생활인구',\n",
    "       '연령대_10_생활인구', '연령대_20_생활인구', '연령대_30_생활인구', '연령대_40_생활인구',\n",
    "       '연령대_50_생활인구', '연령대_60_이상_생활인구', '시간대_1_생활인구', '시간대_2_생활인구',\n",
    "       '시간대_3_생활인구', '시간대_4_생활인구', '시간대_5_생활인구', '시간대_6_생활인구'], axis=1)\n",
    "\n",
    "# 요식업 및 점포관련 변수 생성\n",
    "df['개업율_요식업'] = df['개업_점포_요식업'] / df['점포_요식업']\n",
    "df['폐업율_요식업'] = df['폐업_점포_요식업'] / df['점포_요식업']\n",
    "df['프랜차이즈비율_요식업'] = df['프랜차이즈_점포_요식업'] / df['점포_요식업']\n",
    "\n",
    "df['개업율_비요식업'] = df['개업_점포_비요식업'] / df['점포_비요식업']\n",
    "df['폐업율_비요식업'] = df['폐업_점포_비요식업'] / df['점포_비요식업']\n",
    "df['프랜차이즈비율_비요식업'] = df['프랜차이즈_점포_비요식업'] / df['점포_비요식업']\n",
    "\n",
    "df['요식업비율'] = df['점포_요식업'] / (df['점포_요식업'] + df['점포_비요식업'])\n",
    "\n",
    "df = df.drop(df.columns[df.columns.str.contains('점포')].tolist(), axis=1)"
   ]
  },
  {
   "cell_type": "code",
   "execution_count": 95,
   "metadata": {},
   "outputs": [],
   "source": [
    "# Ordered Categorical Variable\n",
    "cols_crime = ['살인', '강도', '강간', '절도', '폭력', '방화', '마약', '약취', '도박']\n",
    "\n",
    "t = pd.CategoricalDtype(categories=[1,2,3,4,5], ordered=True)\n",
    "df[cols_crime] = df[cols_crime].astype(t)\n",
    "\n",
    "df = df.reset_index(drop=True)"
   ]
  },
  {
   "cell_type": "code",
   "execution_count": 82,
   "metadata": {},
   "outputs": [],
   "source": [
    "# Transformation\n",
    "cols_tf = ['총신고건수', '긴급신고비율', '야간신고비율', '총_생활인구', '아파트_단지', '매출액', 'Bus', 'Subway', \n",
    "'유흥업소', '생활인구_야간비율', '생활인구_심야비율', '생활인구_여성비율', '개업율_요식업', \n",
    "'폐업율_요식업', '프랜차이즈비율_요식업', '개업율_비요식업', '폐업율_비요식업', '프랜차이즈비율_비요식업','요식업비율']\n",
    "\n",
    "for col in cols_tf:\n",
    "    df[col] = np.log1p(df[col])\n",
    "    df[col] = (df[col] - df[col].mean()) / df[col].std()"
   ]
  },
  {
   "cell_type": "code",
   "execution_count": 96,
   "metadata": {},
   "outputs": [],
   "source": [
    "# Regression Value(predicted)\n",
    "df[cols_crime] = df[cols_crime].astype('float')\n",
    "\n",
    "coefs = pd.read_csv('coefs.csv', index_col=0)\n",
    "coefs = coefs.drop(['전용면적','연식','1층유무','용도_제2종근린생활','용도_판매'], axis=0)\n",
    "\n",
    "df['Prediction'] = 0.0\n",
    "\n",
    "for i in range(len(coefs)):\n",
    "    col_i = coefs.index[i]\n",
    "    coef_i = coefs.at[col_i, 'coef']\n",
    "    df['Prediction'] = df['Prediction'] + coef_i * df[col_i]"
   ]
  },
  {
   "cell_type": "code",
   "execution_count": 98,
   "metadata": {},
   "outputs": [],
   "source": [
    "# 서울시 행정동\n",
    "area_adm = gpd.GeoDataFrame.from_file('data/서울시위치정보/Z_SOP_BND_ADM_DONG_PG.shp', encoding='cp949')\n",
    "area_adm = area_adm.iloc[:425,:] # 서울 행정동 435개\n",
    "area_adm = area_adm[['ADM_DR_NM','geometry']]"
   ]
  },
  {
   "cell_type": "code",
   "execution_count": 102,
   "metadata": {},
   "outputs": [],
   "source": [
    "df = df.set_index('행정동명')"
   ]
  },
  {
   "cell_type": "code",
   "execution_count": 110,
   "metadata": {},
   "outputs": [],
   "source": [
    "area_adm = area_adm.join(df['Prediction'],on='ADM_DR_NM')"
   ]
  },
  {
   "cell_type": "markdown",
   "metadata": {},
   "source": [
    "## Plot"
   ]
  },
  {
   "cell_type": "code",
   "execution_count": 122,
   "metadata": {},
   "outputs": [
    {
     "data": {
      "image/png": "[encoded data removed]",
      "text/plain": [
       "<Figure size 720x432 with 2 Axes>"
      ]
     },
     "metadata": {
      "needs_background": "light"
     },
     "output_type": "display_data"
    }
   ],
   "source": [
    "fig, ax = plt.subplots(nrows=1, ncols=1, figsize=(10,6))\n",
    "\n",
    "area_adm.geometry.plot(ax=ax, zorder=1, color='white', alpha=0.6, edgecolor='black', linewidth=0.5)\n",
    "area_adm.plot(column='Prediction', ax=ax, legend=True, zorder=2, cmap='coolwarm', legend_kwds={'shrink': 0.6})\n",
    "\n",
    "plt.axis('off')\n",
    "plt.suptitle('행정동별 가격결정요인 예측값',fontsize=20)\n",
    "plt.tight_layout()\n",
    "plt.savefig(f'plots/resultplot.png', facecolor='white')"
   ]
  },
  {
   "cell_type": "code",
   "execution_count": 125,
   "metadata": {},
   "outputs": [
    {
     "data": {
      "text/html": [
       "<div>\n",
       "<style scoped>\n",
       "    .dataframe tbody tr th:only-of-type {\n",
       "        vertical-align: middle;\n",
       "    }\n",
       "\n",
       "    .dataframe tbody tr th {\n",
       "        vertical-align: top;\n",
       "    }\n",
       "\n",
       "    .dataframe thead th {\n",
       "        text-align: right;\n",
       "    }\n",
       "</style>\n",
       "<table border=\"1\" class=\"dataframe\">\n",
       "  <thead>\n",
       "    <tr style=\"text-align: right;\">\n",
       "      <th></th>\n",
       "      <th>ADM_DR_NM</th>\n",
       "      <th>geometry</th>\n",
       "      <th>Prediction</th>\n",
       "    </tr>\n",
       "  </thead>\n",
       "  <tbody>\n",
       "    <tr>\n",
       "      <th>135</th>\n",
       "      <td>수유3동</td>\n",
       "      <td>POLYGON ((202212.097 460767.746, 202213.474 46...</td>\n",
       "      <td>-0.848602</td>\n",
       "    </tr>\n",
       "    <tr>\n",
       "      <th>205</th>\n",
       "      <td>연희동</td>\n",
       "      <td>POLYGON ((194648.695 453847.191, 194676.517 45...</td>\n",
       "      <td>-0.774209</td>\n",
       "    </tr>\n",
       "    <tr>\n",
       "      <th>197</th>\n",
       "      <td>홍은2동</td>\n",
       "      <td>POLYGON ((194606.840 455246.758, 194612.039 45...</td>\n",
       "      <td>-0.727924</td>\n",
       "    </tr>\n",
       "    <tr>\n",
       "      <th>90</th>\n",
       "      <td>장안2동</td>\n",
       "      <td>POLYGON ((206864.949 452542.482, 206906.816 45...</td>\n",
       "      <td>-0.712398</td>\n",
       "    </tr>\n",
       "    <tr>\n",
       "      <th>334</th>\n",
       "      <td>은천동</td>\n",
       "      <td>POLYGON ((194742.834 443714.916, 194745.102 44...</td>\n",
       "      <td>-0.666507</td>\n",
       "    </tr>\n",
       "    <tr>\n",
       "      <th>...</th>\n",
       "      <td>...</td>\n",
       "      <td>...</td>\n",
       "      <td>...</td>\n",
       "    </tr>\n",
       "    <tr>\n",
       "      <th>347</th>\n",
       "      <td>반포2동</td>\n",
       "      <td>POLYGON ((200132.601 444997.590, 200148.034 44...</td>\n",
       "      <td>0.510262</td>\n",
       "    </tr>\n",
       "    <tr>\n",
       "      <th>221</th>\n",
       "      <td>아현동</td>\n",
       "      <td>POLYGON ((196437.302 450907.847, 196440.880 45...</td>\n",
       "      <td>0.513016</td>\n",
       "    </tr>\n",
       "    <tr>\n",
       "      <th>23</th>\n",
       "      <td>을지로동</td>\n",
       "      <td>POLYGON ((200293.298 452231.984, 200310.878 45...</td>\n",
       "      <td>0.555143</td>\n",
       "    </tr>\n",
       "    <tr>\n",
       "      <th>46</th>\n",
       "      <td>한강로동</td>\n",
       "      <td>POLYGON ((197640.806 448985.732, 197649.586 44...</td>\n",
       "      <td>0.580282</td>\n",
       "    </tr>\n",
       "    <tr>\n",
       "      <th>374</th>\n",
       "      <td>수서동</td>\n",
       "      <td>POLYGON ((209141.950 443707.377, 209152.831 44...</td>\n",
       "      <td>0.629148</td>\n",
       "    </tr>\n",
       "  </tbody>\n",
       "</table>\n",
       "<p>225 rows × 3 columns</p>\n",
       "</div>"
      ],
      "text/plain": [
       "    ADM_DR_NM                                           geometry  Prediction\n",
       "135      수유3동  POLYGON ((202212.097 460767.746, 202213.474 46...   -0.848602\n",
       "205       연희동  POLYGON ((194648.695 453847.191, 194676.517 45...   -0.774209\n",
       "197      홍은2동  POLYGON ((194606.840 455246.758, 194612.039 45...   -0.727924\n",
       "90       장안2동  POLYGON ((206864.949 452542.482, 206906.816 45...   -0.712398\n",
       "334       은천동  POLYGON ((194742.834 443714.916, 194745.102 44...   -0.666507\n",
       "..        ...                                                ...         ...\n",
       "347      반포2동  POLYGON ((200132.601 444997.590, 200148.034 44...    0.510262\n",
       "221       아현동  POLYGON ((196437.302 450907.847, 196440.880 45...    0.513016\n",
       "23       을지로동  POLYGON ((200293.298 452231.984, 200310.878 45...    0.555143\n",
       "46       한강로동  POLYGON ((197640.806 448985.732, 197649.586 44...    0.580282\n",
       "374       수서동  POLYGON ((209141.950 443707.377, 209152.831 44...    0.629148\n",
       "\n",
       "[225 rows x 3 columns]"
      ]
     },
     "execution_count": 125,
     "metadata": {},
     "output_type": "execute_result"
    }
   ],
   "source": [
    "area_adm.dropna().sort_values(by=['Prediction'])"
   ]
  },
  {
   "cell_type": "code",
   "execution_count": null,
   "metadata": {},
   "outputs": [],
   "source": []
  }
 ],
 "metadata": {
  "kernelspec": {
   "display_name": "Python 3.8.13 ('spatial')",
   "language": "python",
   "name": "python3"
  },
  "language_info": {
   "codemirror_mode": {
    "name": "ipython",
    "version": 3
   },
   "file_extension": ".py",
   "mimetype": "text/x-python",
   "name": "python",
   "nbconvert_exporter": "python",
   "pygments_lexer": "ipython3",
   "version": "3.8.13"
  },
  "orig_nbformat": 4,
  "vscode": {
   "interpreter": {
    "hash": "970356c564cb7e889de8bab98729c07a8b5fa078231c70c3e1e49bed73ee6f2a"
   }
  }
 },
 "nbformat": 4,
 "nbformat_minor": 2
}
